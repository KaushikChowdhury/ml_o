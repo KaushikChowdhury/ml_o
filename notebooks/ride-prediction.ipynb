{
 "cells": [
  {
   "cell_type": "code",
   "execution_count": 1,
   "id": "f082e64b",
   "metadata": {},
   "outputs": [],
   "source": [
    "import numpy as np\n",
    "import pandas as pd\n",
    "\n",
    "import matplotlib.pyplot as plt\n",
    "%matplotlib inline\n",
    "\n",
    "import seaborn as sns\n",
    "\n",
    "from sklearn.metrics import mean_squared_error\n",
    "from sklearn.feature_extraction import DictVectorizer\n",
    "from sklearn.linear_model import LinearRegression\n",
    "\n",
    "import pickle\n",
    "\n",
    "import warnings\n",
    "warnings.filterwarnings('ignore')"
   ]
  },
  {
   "cell_type": "code",
   "execution_count": 2,
   "id": "d62db93e",
   "metadata": {},
   "outputs": [],
   "source": [
    "train_df = pd.read_parquet('../data/yellow_tripdata_2022-01.parquet')\n",
    "test_df = pd.read_parquet('../data/yellow_tripdata_2022-02.parquet')"
   ]
  },
  {
   "cell_type": "code",
   "execution_count": 3,
   "id": "091c2b8e",
   "metadata": {},
   "outputs": [],
   "source": [
    "def get_target(dataframe):\n",
    "    \n",
    "    dataframe['duration'] = dataframe.tpep_dropoff_datetime - dataframe.tpep_pickup_datetime\n",
    "    dataframe['duration'] = dataframe['duration'].dt.total_seconds() / 60\n",
    "    dataframe['duration'] = round(dataframe['duration'],2)\n",
    "    \n",
    "    return dataframe"
   ]
  },
  {
   "cell_type": "code",
   "execution_count": null,
   "id": "bc4c03e6",
   "metadata": {},
   "outputs": [],
   "source": [
    "# train_df = get_target(train_df)\n",
    "# test_df = get_target(test_df)\n",
    "# train_df['duration'].describe().round(2)\n",
    "# train_df['duration'].describe(percentiles=[0.85, 0.95, 0.99]).round(2)"
   ]
  },
  {
   "cell_type": "code",
   "execution_count": 4,
   "id": "8b8d841a",
   "metadata": {},
   "outputs": [],
   "source": [
    "categorical_cols = ['PULocationID', 'DOLocationID']\n",
    "numerical_cols = ['trip_distance']\n",
    "target = ['duration']"
   ]
  },
  {
   "cell_type": "code",
   "execution_count": 5,
   "id": "fbe959e1",
   "metadata": {},
   "outputs": [],
   "source": [
    "def clean_data(dataframe, cat_cols, num_cols, target):\n",
    "    \n",
    "    cat_cols = [x.lower() for x in cat_cols]\n",
    "    num_cols = [x.lower() for x in num_cols]\n",
    "    \n",
    "    \n",
    "    dataframe = dataframe.loc[dataframe['VendorID'] == 2]\n",
    "    dataframe = get_target(dataframe)\n",
    "    \n",
    "    dataframe = dataframe[dataframe['duration'].between(0, 50.85)]\n",
    "    dataframe.columns = dataframe.columns.str.lower()\n",
    "    \n",
    "    dataframe = dataframe[cat_cols + num_cols + target]\n",
    "    dataframe[cat_cols] = dataframe[cat_cols].astype('str')\n",
    "    \n",
    "    dataframe.reset_index(drop = True, inplace = True)\n",
    "    return dataframe\n",
    "    "
   ]
  },
  {
   "cell_type": "code",
   "execution_count": 6,
   "id": "2a83bc7b",
   "metadata": {},
   "outputs": [],
   "source": [
    "train_df = clean_data(train_df, categorical_cols, numerical_cols, target)\n",
    "test_df = clean_data(test_df, categorical_cols, numerical_cols, target)"
   ]
  },
  {
   "cell_type": "code",
   "execution_count": 7,
   "id": "2f7d9ea0",
   "metadata": {},
   "outputs": [
    {
     "data": {
      "text/html": [
       "<div>\n",
       "<style scoped>\n",
       "    .dataframe tbody tr th:only-of-type {\n",
       "        vertical-align: middle;\n",
       "    }\n",
       "\n",
       "    .dataframe tbody tr th {\n",
       "        vertical-align: top;\n",
       "    }\n",
       "\n",
       "    .dataframe thead th {\n",
       "        text-align: right;\n",
       "    }\n",
       "</style>\n",
       "<table border=\"1\" class=\"dataframe\">\n",
       "  <thead>\n",
       "    <tr style=\"text-align: right;\">\n",
       "      <th></th>\n",
       "      <th>pulocationid</th>\n",
       "      <th>dolocationid</th>\n",
       "      <th>trip_distance</th>\n",
       "      <th>duration</th>\n",
       "    </tr>\n",
       "  </thead>\n",
       "  <tbody>\n",
       "    <tr>\n",
       "      <th>0</th>\n",
       "      <td>166</td>\n",
       "      <td>166</td>\n",
       "      <td>0.97</td>\n",
       "      <td>8.97</td>\n",
       "    </tr>\n",
       "    <tr>\n",
       "      <th>1</th>\n",
       "      <td>114</td>\n",
       "      <td>68</td>\n",
       "      <td>1.09</td>\n",
       "      <td>10.03</td>\n",
       "    </tr>\n",
       "    <tr>\n",
       "      <th>2</th>\n",
       "      <td>68</td>\n",
       "      <td>163</td>\n",
       "      <td>4.30</td>\n",
       "      <td>37.53</td>\n",
       "    </tr>\n",
       "    <tr>\n",
       "      <th>3</th>\n",
       "      <td>233</td>\n",
       "      <td>87</td>\n",
       "      <td>5.07</td>\n",
       "      <td>14.13</td>\n",
       "    </tr>\n",
       "    <tr>\n",
       "      <th>4</th>\n",
       "      <td>238</td>\n",
       "      <td>152</td>\n",
       "      <td>2.02</td>\n",
       "      <td>9.68</td>\n",
       "    </tr>\n",
       "  </tbody>\n",
       "</table>\n",
       "</div>"
      ],
      "text/plain": [
       "  pulocationid dolocationid  trip_distance  duration\n",
       "0          166          166           0.97      8.97\n",
       "1          114           68           1.09     10.03\n",
       "2           68          163           4.30     37.53\n",
       "3          233           87           5.07     14.13\n",
       "4          238          152           2.02      9.68"
      ]
     },
     "execution_count": 7,
     "metadata": {},
     "output_type": "execute_result"
    }
   ],
   "source": [
    "train_df.head()"
   ]
  },
  {
   "cell_type": "code",
   "execution_count": 8,
   "id": "80fcc333",
   "metadata": {},
   "outputs": [],
   "source": [
    "y_train = train_df['duration'].values\n",
    "train_df.drop(columns = ['duration'], inplace = True)\n",
    "\n",
    "y_test = test_df['duration'].values\n",
    "test_df.drop(columns = ['duration'], inplace = True)\n",
    "\n",
    "train_df = train_df.to_dict(orient = 'records')\n",
    "test_df = test_df.to_dict(orient = 'records')\n"
   ]
  },
  {
   "cell_type": "code",
   "execution_count": null,
   "id": "743bb48d",
   "metadata": {},
   "outputs": [],
   "source": [
    "# with open('../data/train_df_dict', 'wb') as f_out:\n",
    "    \n",
    "#     pickle.dump(train_df, f_out)\n",
    "    \n",
    "# with open('../data/test_df_dict', 'wb') as f_out:\n",
    "    \n",
    "#     pickle.dump(test_df, f_out)\n",
    "    \n",
    "# del train_df\n",
    "\n",
    "# del test_df"
   ]
  },
  {
   "cell_type": "code",
   "execution_count": null,
   "id": "056149cd",
   "metadata": {},
   "outputs": [],
   "source": [
    "# with open('../data/train_df_dict', 'rb') as f_in:\n",
    "    \n",
    "#     train_df = pickle.load(f_in)\n",
    "    \n",
    "# with open('../data/test_df_dict', 'rb') as f_in:\n",
    "    \n",
    "#     test_df = pickle.load(f_in)"
   ]
  },
  {
   "cell_type": "code",
   "execution_count": 9,
   "id": "cd1e668e",
   "metadata": {},
   "outputs": [],
   "source": [
    "dv = DictVectorizer(sparse = False)\n",
    "X_train = dv.fit_transform(train_df)\n",
    "X_test = dv.transform(test_df)"
   ]
  },
  {
   "cell_type": "code",
   "execution_count": null,
   "id": "27999b04",
   "metadata": {},
   "outputs": [],
   "source": [
    "lr = LinearRegression()\n",
    "\n",
    "lr.fit(X_train, y_train)\n",
    "\n",
    "preds = lr.predict(X_test)\n",
    "rmse = mean_squared_error(y_test, y_train)\n",
    "\n",
    "print('RMSE: {rmse}')"
   ]
  },
  {
   "cell_type": "code",
   "execution_count": null,
   "id": "ea9f93e4",
   "metadata": {},
   "outputs": [],
   "source": []
  },
  {
   "cell_type": "code",
   "execution_count": null,
   "id": "1ebfec3b",
   "metadata": {},
   "outputs": [],
   "source": []
  },
  {
   "cell_type": "code",
   "execution_count": null,
   "id": "b1481718",
   "metadata": {},
   "outputs": [],
   "source": []
  }
 ],
 "metadata": {
  "kernelspec": {
   "display_name": "Python 3 (ipykernel)",
   "language": "python",
   "name": "python3"
  },
  "language_info": {
   "codemirror_mode": {
    "name": "ipython",
    "version": 3
   },
   "file_extension": ".py",
   "mimetype": "text/x-python",
   "name": "python",
   "nbconvert_exporter": "python",
   "pygments_lexer": "ipython3",
   "version": "3.9.13"
  }
 },
 "nbformat": 4,
 "nbformat_minor": 5
}
